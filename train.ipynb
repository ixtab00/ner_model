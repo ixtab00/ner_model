{
  "nbformat": 4,
  "nbformat_minor": 0,
  "metadata": {
    "colab": {
      "provenance": [],
      "gpuType": "T4"
    },
    "kernelspec": {
      "name": "python3",
      "display_name": "Python 3"
    },
    "language_info": {
      "name": "python"
    }
  },
  "cells": [
    {
      "cell_type": "code",
      "execution_count": null,
      "metadata": {
        "id": "QWcqv4lNSuzi"
      },
      "outputs": [],
      "source": [
        "from google.colab import drive\n",
        "\n",
        "drive.mount('/content/drive', force_remount=True)"
      ]
    },
    {
      "cell_type": "code",
      "source": [
        "from keras.layers import InputLayer, Embedding, Bidirectional, LSTM, SpatialDropout1D\n",
        "from keras.models import Sequential\n",
        "import sys\n",
        "from tensorflow.keras.preprocessing.sequence import pad_sequences\n",
        "import numpy as np\n",
        "from keras.utils import pad_sequences\n",
        "import tensorflow as tf\n",
        "from json import dumps\n",
        "from tensorflow.keras.callbacks import ModelCheckpoint, EarlyStopping"
      ],
      "metadata": {
        "id": "-7iPrUzCS3kE"
      },
      "execution_count": null,
      "outputs": []
    },
    {
      "cell_type": "code",
      "source": [
        "sys.path.append(\"/content/drive/MyDrive\")\n",
        "import load_data\n",
        "import preprocessing"
      ],
      "metadata": {
        "id": "VROcYHZ1Ti59"
      },
      "execution_count": null,
      "outputs": []
    },
    {
      "cell_type": "code",
      "source": [
        "data_loader = load_data.DataLoader()\n",
        "unique_words, unique_tags, sentences = data_loader.open_csv(\"/content/drive/MyDrive/ner_dataset.csv\")\n",
        "preprocessor = preprocessing.Preprocessor(35)\n",
        "X, y = preprocessor.process(sentences, unique_words, unique_tags)"
      ],
      "metadata": {
        "id": "GgrOxo5qV4cq"
      },
      "execution_count": null,
      "outputs": []
    },
    {
      "cell_type": "code",
      "source": [
        "with open('/content/drive/MyDrive/word_index.json', 'w') as file:\n",
        "  file.write(dumps(preprocessor.words_encoding))\n",
        "\n",
        "with open('/content/drive/MyDrive/tag_index.json', 'w') as file:\n",
        "  file.write(dumps(preprocessor.tags_encoding))"
      ],
      "metadata": {
        "id": "bQ8MiIMK10uk"
      },
      "execution_count": null,
      "outputs": []
    },
    {
      "cell_type": "code",
      "source": [
        "model = Sequential()\n",
        "model.add(InputLayer((35)))\n",
        "model.add(Embedding(len(unique_words), 35))\n",
        "model.add(SpatialDropout1D(DROPOUT))\n",
        "model.add(Bidirectional(LSTM(64, return_sequences=True, recurrent_dropout=RECURRENT_DROPOUT)))\n",
        "\n",
        "model.summary()"
      ],
      "metadata": {
        "id": "dEJqqjzDyBYs"
      },
      "execution_count": null,
      "outputs": []
    },
    {
      "cell_type": "code",
      "source": [
        "tf.keras.utils.plot_model(\n",
        "    model, to_file='model.png', show_shapes=True, show_dtype=False,\n",
        "    show_layer_names=True, rankdir='LR', expand_nested=True, dpi=300,\n",
        ")"
      ],
      "metadata": {
        "id": "Ect-gKB_yxyJ"
      },
      "execution_count": null,
      "outputs": []
    },
    {
      "cell_type": "code",
      "source": [
        "model.compile(optimizer=\"adam\",\n",
        "              loss=\"sparse_categorical_crossentropy\",\n",
        "              metrics=[\"accuracy\"])\n",
        "from sklearn.model_selection import train_test_split\n",
        "x_train, x_test, y_train, y_test = train_test_split(X, y, test_size=0.2)"
      ],
      "metadata": {
        "id": "UYrrCsxCDdo6"
      },
      "execution_count": null,
      "outputs": []
    },
    {
      "cell_type": "code",
      "source": [
        "chkpt = ModelCheckpoint(\"/content/drive/MyDrive/model_weights.h5\", monitor='val_loss',verbose=1, save_best_only=True, save_weights_only=False, mode='min')\n",
        "\n",
        "early_stopping = EarlyStopping(monitor='val_accuracy', min_delta=0, patience=1, verbose=0, mode='max', baseline=None, restore_best_weights=False)\n",
        "\n",
        "callbacks = [chkpt, early_stopping]\n",
        "\n",
        "\n",
        "history = model.fit(\n",
        "    x=x_train,\n",
        "    y=y_train,\n",
        "    validation_data=(x_test,y_test),\n",
        "    batch_size=32,\n",
        "    epochs=3,\n",
        "    callbacks=callbacks,\n",
        "    verbose=1\n",
        ")"
      ],
      "metadata": {
        "id": "gIG_E4r9GIE8"
      },
      "execution_count": null,
      "outputs": []
    }
  ]
}